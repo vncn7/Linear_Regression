{
 "cells": [
  {
   "cell_type": "markdown",
   "metadata": {
    "id": "2YX_utHD_s3h"
   },
   "source": [
    "This dataset contains daily bicycle counts recorded at Seattle's Fremont Bridge, along with weather, seasonal, and other contextual data. The dataset includes the number of cyclists crossing the bridge each day and various associated factors. We apply simple linear regression to analyze how weather conditions and other variables influence bicycle traffic, estimating the impact of each parameter on daily rider counts."
   ]
  },
  {
   "cell_type": "code",
   "execution_count": null,
   "metadata": {
    "colab": {
     "base_uri": "https://localhost:8080/"
    },
    "executionInfo": {
     "elapsed": 1879,
     "status": "ok",
     "timestamp": 1709672078597,
     "user": {
      "displayName": "cr0wn7 cr0wn7",
      "userId": "05481356110704364561"
     },
     "user_tz": -60
    },
    "id": "7frjiXeo8p7M",
    "outputId": "27c90176-f870-46e1-b579-745a3d6f9445"
   },
   "outputs": [],
   "source": [
    "# download dataset\n",
    "!gdown 12OEFoq_65x6Sy4doc24FwHu1ujKpbXSn"
   ]
  },
  {
   "cell_type": "code",
   "execution_count": null,
   "metadata": {
    "executionInfo": {
     "elapsed": 320,
     "status": "ok",
     "timestamp": 1709672078912,
     "user": {
      "displayName": "cr0wn7 cr0wn7",
      "userId": "05481356110704364561"
     },
     "user_tz": -60
    },
    "id": "h_zsvUmV-RGu"
   },
   "outputs": [],
   "source": [
    "# import libraries\n",
    "import pandas as pd\n",
    "import numpy as np\n",
    "import matplotlib.pyplot as plt"
   ]
  },
  {
   "cell_type": "code",
   "execution_count": null,
   "metadata": {
    "colab": {
     "base_uri": "https://localhost:8080/",
     "height": 455
    },
    "executionInfo": {
     "elapsed": 431,
     "status": "ok",
     "timestamp": 1709672079338,
     "user": {
      "displayName": "cr0wn7 cr0wn7",
      "userId": "05481356110704364561"
     },
     "user_tz": -60
    },
    "id": "5xykcINg-Evc",
    "outputId": "79987922-1d8c-4758-d272-54b6dfe98c45"
   },
   "outputs": [],
   "source": [
    "# Load Data\n",
    "data = pd.read_csv(\"bikers_data.csv\", index_col=\"Date\")\n",
    "data"
   ]
  },
  {
   "cell_type": "code",
   "execution_count": null,
   "metadata": {
    "colab": {
     "base_uri": "https://localhost:8080/"
    },
    "executionInfo": {
     "elapsed": 13,
     "status": "ok",
     "timestamp": 1709672079339,
     "user": {
      "displayName": "cr0wn7 cr0wn7",
      "userId": "05481356110704364561"
     },
     "user_tz": -60
    },
    "id": "AqBaPVax6c90",
    "outputId": "aff3257e-b766-49b0-fa12-3268b2cedcc2"
   },
   "outputs": [],
   "source": [
    "# use the following columns for training.\n",
    "data_x = data[['Mon', 'Tue', 'Wed', 'Thu', 'Fri', 'Sat', 'Sun',\n",
    "                'holiday', 'daylight_hrs', 'Rainfall (in)',\n",
    "                'dry day', 'Temp (F)']].to_numpy()\n",
    "\n",
    "# Separating out the target values.\n",
    "data_y = data[[\"Number of bikers\"]].to_numpy()\n",
    "\n",
    "data_x.shape, data_y.shape"
   ]
  },
  {
   "cell_type": "markdown",
   "metadata": {
    "id": "OZ6wbmQXAhzR"
   },
   "source": [
    "### Split the dataset into training and testing sets\n",
    "Keep 80% of the data for training and 20% of the data for testing."
   ]
  },
  {
   "cell_type": "code",
   "execution_count": null,
   "metadata": {
    "colab": {
     "base_uri": "https://localhost:8080/"
    },
    "executionInfo": {
     "elapsed": 11,
     "status": "ok",
     "timestamp": 1709672079339,
     "user": {
      "displayName": "cr0wn7 cr0wn7",
      "userId": "05481356110704364561"
     },
     "user_tz": -60
    },
    "id": "zVE7qQyv4UM0",
    "outputId": "79b3b9a6-57fd-4376-8278-4fac88330e18"
   },
   "outputs": [],
   "source": [
    "# Define the split to 20%\n",
    "test_size = 0.2\n",
    "\n",
    "# Determine the number of samples for testing\n",
    "num_test = int(data_x.shape[0] * test_size) # number of rows * 0.2\n",
    "\n",
    "# Create an array of indices for shuffling\n",
    "index = np.arange(data_x.shape[0]) # index-array\n",
    "np.random.shuffle(index) # shuffle index\n",
    "print(index)\n",
    "\n",
    "# Split indices into training and testing indeces\n",
    "train_index = index[num_test:] # 80% indices\n",
    "test_index = index[:num_test]  # 20% indices\n",
    "\n",
    "# Split features and target using indices\n",
    "x_train = data_x[train_index]\n",
    "x_test = data_x[test_index]\n",
    "y_train = data_y[train_index]\n",
    "y_test = data_y[test_index]"
   ]
  },
  {
   "cell_type": "markdown",
   "metadata": {
    "id": "iqVMAnc1AnjE"
   },
   "source": [
    "### Train a Linear Regression Model  \n",
    "Construct a linear regression model to predict the number of cyclists using the mean squared error (MSE) loss function.  \n",
    "\n",
    "The linear regression equation is given by:  \n",
    "$$\n",
    "y = b + w_1 x_1 + w_2 x_2 + \\dots + w_n x_n\n",
    "$$\n",
    "where y represents the predicted number of cyclists, $x_i$ are the input features (e.g., weather conditions, season), $w_i$ are the corresponding weights, and $b$ is the bias term.\n"
   ]
  },
  {
   "cell_type": "code",
   "execution_count": null,
   "metadata": {
    "colab": {
     "base_uri": "https://localhost:8080/"
    },
    "executionInfo": {
     "elapsed": 10,
     "status": "ok",
     "timestamp": 1709672079340,
     "user": {
      "displayName": "cr0wn7 cr0wn7",
      "userId": "05481356110704364561"
     },
     "user_tz": -60
    },
    "id": "k9jXBm2G47FF",
    "outputId": "a27d128b-bf6b-485b-ee31-ba2230ec5aae"
   },
   "outputs": [],
   "source": [
    "# Prepare data for training by adding a column with 1 for calculating intercept\n",
    "x_ones = np.ones((x_train.shape[0], 1)) # create array of ones with same number of rows as x_train and one column\n",
    "x_train = np.concatenate([x_ones, x_train], axis=1)\n",
    "x_ones = np.ones((x_test.shape[0], 1)) # create array of ones with same number of rows as x_test and one column\n",
    "x_test = np.concatenate([x_ones, x_test], axis=1)\n",
    "\n",
    "# Calculate vector of coefficents using the mean squares method (normal equation)\n",
    "theta = np.linalg.solve(x_train.T @ x_train , x_train.T @ y_train)\n",
    "print(f\"vector of coefficients:\\n{theta}\")"
   ]
  },
  {
   "cell_type": "markdown",
   "metadata": {
    "id": "uiMkCZAnAy-Y"
   },
   "source": [
    "### Prediction and Evaluation\n",
    "\n",
    "Predict on the test set and calculate the average absolute error between predictions and true value."
   ]
  },
  {
   "cell_type": "code",
   "execution_count": null,
   "metadata": {
    "colab": {
     "base_uri": "https://localhost:8080/",
     "height": 507
    },
    "executionInfo": {
     "elapsed": 597,
     "status": "ok",
     "timestamp": 1709672079929,
     "user": {
      "displayName": "cr0wn7 cr0wn7",
      "userId": "05481356110704364561"
     },
     "user_tz": -60
    },
    "id": "XjFqpA4o6hF_",
    "outputId": "f9911d66-45ac-4622-90dc-c6f5e87df5c9"
   },
   "outputs": [],
   "source": [
    "# Predict the target values for the test data using the calculated regression coefficients\n",
    "y_test_predictions = x_test @ theta\n",
    "y_test_predictions = np.maximum(y_test_predictions, 0) # replace negative predictions with zeros\n",
    "\n",
    "# Calculate average absolute error = (1/n) * sum(Predicted Value - Actual Value)\n",
    "mae = np.mean(np.abs(y_test_predictions - y_test))\n",
    "print(f\"MAE: {mae} [mean absolute error]\")\n",
    "\n",
    "# Calculate R² = 1 - ( SSR / SST )\n",
    "# SSR: sum of the squared differences between the actual target values and the predicted values\n",
    "# SST: sum of the squared differences between the actual target values and the mean of the target values\n",
    "ssr = np.sum((y_test_predictions - y_test)**2)\n",
    "sst = np.sum((y_test - np.mean(y_test))**2)\n",
    "coeff_det = 1 - (ssr/sst)\n",
    "print(f\" R²: {coeff_det} [coefficient of determination]\")\n",
    "\n",
    "# Plot the predicted and the actual data with a theoretical perfect regression line\n",
    "plt.scatter(y_test, y_test_predictions, color=\"darkblue\", alpha=0.4, label=\"Predictions\")\n",
    "plt.plot([0, np.max(y_test)], [0, np.max(y_test)], color=\"red\", linestyle=\"--\", linewidth=0.8, label=\"perfect regression line\")\n",
    "plt.xlabel(\"y [Number of Bikers]\")\n",
    "plt.ylabel(\"ŷ [Number of Bikers]\")\n",
    "plt.title(\"Test-Data Prediction\")\n",
    "plt.legend()\n",
    "plt.grid(True)\n",
    "plt.show()"
   ]
  },
  {
   "cell_type": "markdown",
   "metadata": {},
   "source": [
    "##### **MAE (Mean Absolute Error)**  \n",
    "- Represents the average absolute difference between predictions and actual values.  \n",
    "- Indicates the typical size of prediction errors.  \n",
    "**Conclusion:**  \n",
    "$MAE \\approx 2000$ → Given the data range (0 to over 25,000), the error appears relatively moderate.  \n",
    "##### **R² (Coefficient of Determination)**  \n",
    "- Measures how well the model's predictions match the actual data.  \n",
    "- Ranges from **0 to 1**, where **1** indicates a perfect fit and **0** suggests no correlation.  \n",
    "**Conclusion:**  \n",
    "$R^2 \\approx 0.78$ → Model is performing reasonably well.  "
   ]
  },
  {
   "cell_type": "markdown",
   "metadata": {
    "id": "Gqu61LeEBKMO"
   },
   "source": [
    "### Example: Predicting Bicycle Traffic  \n",
    "\n",
    "**Question:** What is the expected number of cyclists on a **dry, non-holiday Monday** with **0 inches of rain**, **10.5 hours of daylight**, and a temperature of **60°F**?\n"
   ]
  },
  {
   "cell_type": "code",
   "execution_count": null,
   "metadata": {
    "colab": {
     "base_uri": "https://localhost:8080/"
    },
    "executionInfo": {
     "elapsed": 12,
     "status": "ok",
     "timestamp": 1709672079929,
     "user": {
      "displayName": "cr0wn7 cr0wn7",
      "userId": "05481356110704364561"
     },
     "user_tz": -60
    },
    "id": "0xkt_jb-8xMU",
    "outputId": "7cf48454-6daa-4788-abd7-f8f8244d68aa"
   },
   "outputs": [],
   "source": [
    "# [Mon, Tue, Wed, Thu, Fri, Sat, Sun, holiday, daylight_hrs, Rainfall (in), dry day, Temp (F)]\n",
    "input_data = np.array([[1, 0, 0, 0, 0, 0, 0, 0, 10.5, 0, 1, 60]]) # set the given input_data\n",
    "x_ones = np.ones((input_data.shape[0], 1)) # create array of ones with same number of rows as input_data and one column\n",
    "x_input_data = np.concatenate([x_ones, input_data], axis=1)\n",
    "\n",
    "# Prediction\n",
    "predicted_bikers = x_input_data @ theta\n",
    "print(f\"Predicted Number of Bikers: {int(predicted_bikers[0])}\")"
   ]
  }
 ],
 "metadata": {
  "colab": {
   "provenance": []
  },
  "kernelspec": {
   "display_name": "Python 3",
   "name": "python3"
  },
  "language_info": {
   "codemirror_mode": {
    "name": "ipython",
    "version": 3
   },
   "file_extension": ".py",
   "mimetype": "text/x-python",
   "name": "python",
   "nbconvert_exporter": "python",
   "pygments_lexer": "ipython3",
   "version": "3.12.4"
  }
 },
 "nbformat": 4,
 "nbformat_minor": 0
}
